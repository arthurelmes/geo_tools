{
 "cells": [
  {
   "cell_type": "code",
   "execution_count": 95,
   "metadata": {
    "pycharm": {
     "name": "#%%\n"
    }
   },
   "outputs": [],
   "source": [
    "# Little Jupyter notebook to explore time series data from in situ stations and satellite observations,\n",
    "# both already in csv format.\n",
    "\n",
    "import matplotlib.pyplot as plt\n",
    "import pandas as pd\n",
    "import numpy as np\n",
    "import os\n",
    "\n",
    "# These two datasets are for the GCNet data\n",
    "# os.chdir('/home/arthur/Dropbox/projects/greenland/station_data/appears_extraction')\n",
    "# all_data_mcd = pd.read_csv('greenland-stations-MCD43A3-006-results.csv', index_col=0)\n",
    "#\n",
    "# os.chdir('/home/arthur/Dropbox/projects/greenland/station_data/tower_data/orig_data_std_format/')\n",
    "# stn_df = pd.read_csv('Summit_06c.csv')\n",
    "\n",
    "# This is the NOAA Summit stn data\n",
    "# os.chdir('/home/arthur/Dropbox/projects/greenland/station_data/noaa_summit_data')\n",
    "# stn_df = pd.read_csv('noaa_summit_all.csv')\n",
    "\n",
    "# Raw Appears outputs\n",
    "# os.chdir('/home/arthur/Dropbox/projects/greenland/station_data/appears_extraction/noaa_summit')\n",
    "# all_data_mcd = pd.read_csv('noaa-summit-manual-location-MCD43A3-006-results.csv', index_col=0)\n",
    "\n",
    "# SURFRAD data\n",
    "os.chdir('/home/arthur/Dropbox/projects/modis_viirs_continuity/in_situ/surfrad/')\n",
    "sfrd = pd.read_csv('dra_2019.csv')\n",
    "\n",
    "# Blue sky albedo outputs\n",
    "# os.chdir('/home/arthur/Dropbox/projects/greenland/station_data/appears_extraction/noaa_summit/blue_sky/')\n",
    "# all_data_mcd = pd.read_csv('MODIS_summit_2013-2019.csv', index_col=0)\n",
    "\n",
    "# Extracted data from MODIS/VIIRS\n",
    "os.chdir('/home/arthur/Dropbox/projects/modis_viirs_continuity/in_situ/extracted/mcd/')\n",
    "mcd = pd.read_csv('h08v05_extracted_values_MCD43A3.csv', index_col=0)\n",
    "\n",
    "# Column variables for readability\n",
    "date = 'Date'\n",
    "#mcd_variable = 'MCD43A3_006_Albedo_WSA_shortwave'\n",
    "#mcd_qa = 'MCD43A3_006_BRDF_Albedo_Band_Mandatory_Quality_shortwave'\n",
    "\n",
    "mcd_variable = 'drk_wsa'\n",
    "#mcd_qa = 'MCD43_QA'\n",
    "# Specify whether to keep QA == 1, i.e. magnitude inversions\n",
    "\n",
    "high_qa_only = True"
   ]
  },
  {
   "cell_type": "code",
   "execution_count": 96,
   "metadata": {},
   "outputs": [
    {
     "name": "stdout",
     "output_type": "stream",
     "text": [
      "     month  day  year  gnd_mean  gnd_sdev  dir/dif_ratio  diffuse/(dir+diff)  \\\n",
      "doy                                                                            \n",
      "1        1    1  2019    0.2185    0.0013         9.0800              0.0992   \n",
      "2        1    2  2019    0.2165    0.0016         9.2453              0.0976   \n",
      "3        1    3  2019    0.2161    0.0014         9.3319              0.0968   \n",
      "4        1    4  2019    0.2174    0.0012         9.5777              0.0946   \n",
      "5        1    5  2019    0.1882    0.0026         0.0006              0.9994   \n",
      "\n",
      "         zen       Date  \n",
      "doy                      \n",
      "1    61.9875 2019-01-01  \n",
      "2    61.9350 2019-01-02  \n",
      "3    61.8700 2019-01-03  \n",
      "4    61.8025 2019-01-04  \n",
      "5    61.7275 2019-01-05  \n"
     ]
    }
   ],
   "source": [
    "# Convert the individual data fields to datetime field\n",
    "sfrd['Date'] = pd.to_datetime(sfrd['year'].map(str) + '-' + sfrd['month'].map(str) + '-' + sfrd['day'].map(str))\n",
    "sfrd['doy'] = sfrd['Date'].dt.dayofyear\n",
    "# Then get julian date from it, to use as a join field\n",
    "sfrd.set_index('doy', inplace=True)\n",
    "print(sfrd.head())"
   ]
  },
  {
   "cell_type": "code",
   "execution_count": 97,
   "metadata": {},
   "outputs": [
    {
     "name": "stdout",
     "output_type": "stream",
     "text": [
      "     month  day  year  gnd_mean  gnd_sdev  dir/dif_ratio  diffuse/(dir+diff)  \\\n",
      "doy                                                                            \n",
      "1        1    1  2019    0.2185    0.0013         9.0800              0.0992   \n",
      "2        1    2  2019    0.2165    0.0016         9.2453              0.0976   \n",
      "3        1    3  2019    0.2161    0.0014         9.3319              0.0968   \n",
      "4        1    4  2019    0.2174    0.0012         9.5777              0.0946   \n",
      "5        1    5  2019    0.1882    0.0026         0.0006              0.9994   \n",
      "\n",
      "         zen       Date  drk_wsa  drk_bsa  \n",
      "doy                                        \n",
      "1    61.9875 2019-01-01    0.198    0.198  \n",
      "2    61.9350 2019-01-02    0.198    0.198  \n",
      "3    61.8700 2019-01-03    0.196    0.196  \n",
      "4    61.8025 2019-01-04    0.196    0.196  \n",
      "5    61.7275 2019-01-05    0.195    0.195  \n"
     ]
    }
   ],
   "source": [
    "# Join the surfrad and sensor datasets\n",
    "sfrd = sfrd.join(mcd,  lsuffix='_sfrd', rsuffix='_snsr')\n",
    "print(sfrd.head())"
   ]
  },
  {
   "cell_type": "code",
   "execution_count": 106,
   "metadata": {},
   "outputs": [
    {
     "data": {
      "text/plain": [
       "<matplotlib.collections.PathCollection at 0x7f85903c0460>"
      ]
     },
     "execution_count": 106,
     "metadata": {},
     "output_type": "execute_result"
    },
    {
     "data": {
      "image/png": "[encoded data removed]",
      "text/plain": [
       "<Figure size 432x288 with 1 Axes>"
      ]
     },
     "metadata": {
      "needs_background": "light"
     },
     "output_type": "display_data"
    }
   ],
   "source": [
    "#sfrd.plot.scatter(x='gnd_mean', y='drk_wsa')\n",
    "x = sfrd['gnd_mean']\n",
    "y = sfrd['drk_wsa']\n",
    "\n",
    "fig, ax = plt.subplots()\n",
    "\n",
    "ax.scatter(x, y)"
   ]
  },
  {
   "cell_type": "code",
   "execution_count": 24,
   "metadata": {
    "pycharm": {
     "name": "#%%\n"
    }
   },
   "outputs": [
    {
     "name": "stderr",
     "output_type": "stream",
     "text": [
      "/home/arthur/software/anaconda3/envs/geo/lib/python3.7/site-packages/numpy/lib/function_base.py:393: RuntimeWarning: Mean of empty slice.\n",
      "  avg = a.mean(axis)\n",
      "/home/arthur/software/anaconda3/envs/geo/lib/python3.7/site-packages/numpy/core/_methods.py:161: RuntimeWarning: invalid value encountered in double_scalars\n",
      "  ret = ret.dtype.type(ret / rcount)\n"
     ]
    }
   ],
   "source": [
    "# Subset and mask station data\n",
    "\n",
    "# Valid dataset options: GCNET, NOAA\n",
    "dataset = \"NOAA\"\n",
    "\n",
    "if dataset == \"GCNET\":\n",
    "    # Filter out non-noon observations from dataset\n",
    "    #TODO Can't figure out why these two filters cannot be combined into single line\n",
    "    filter = stn_df['dec_day'] % 0.5 == 0\n",
    "    stn_df.where(filter, inplace = True)\n",
    "\n",
    "    filter = stn_df['dec_day'] % 1.0 != 0\n",
    "    stn_df.where(filter, inplace = True)\n",
    "\n",
    "    # Remove observations filtered out above\n",
    "    stn_df = stn_df.dropna()\n",
    "\n",
    "    # Clean up dec_days and combine wit.h year to make new date field in yyyy-mm-dd, use as index\n",
    "    stn_df['dec_day'] = stn_df['dec_day'].apply(np.floor)\n",
    "    stn_df['dec_day'] = stn_df['dec_day'].astype(int).astype(str)\n",
    "    stn_df['dec_day'] = stn_df['dec_day'].str.zfill(3)\n",
    "    stn_df['date'] = stn_df['year'].astype(int).astype(str) + stn_df['dec_day']\n",
    "    stn_df['date'] = pd.to_datetime(stn_df['date'], format='%Y%j')\n",
    "    stn_df = stn_df.set_index(stn_df['date'])\n",
    "\n",
    "    # Delete now unnecessary dateparts\n",
    "    del stn_df['year']\n",
    "    del stn_df['dec_day']\n",
    "\n",
    "    # Set albedo fill values to NaN\n",
    "    stn_df['alb'].mask(stn_df['alb'] == 999, np.NaN, inplace=True)\n",
    "elif dataset == \"NOAA\":\n",
    "    # Add column to contain entire date string\n",
    "    stn_df['date'] = pd.to_datetime(stn_df['Year'].map(str) + \"-\" + stn_df['Mn'].map(str) + \"-\" + stn_df['Dy'].map(str))\n",
    "    # + \" \" + stn_df['Hr'].map(str) + \":\" + stn_df['Mi'].map(str))\n",
    "\n",
    "    # Here, instead of selecting noon, create a pivot of the selection using Hr == 11 AND Hr == 12 to average alb\n",
    "    df_selection = stn_df.loc[(stn_df['Hr'] == 11) | (stn_df['Hr'] == 12) ].copy()\n",
    "    df_selection = pd.pivot_table(df_selection,index=['date'], aggfunc=[np.average],\n",
    "                                  values=['U_GLOBAL', 'D_GLOBAL']).copy()\n",
    "\n",
    "    # The below steps are taken from https://bit.ly/301hrH2 to return the pivot_table back to workable df\n",
    "    df_selection.columns = df_selection.columns.droplevel(0)\n",
    "    df_selection.columns.name = None\n",
    "    df_selection = df_selection.reset_index()\n",
    "    # Note the .copy() prevents the new variable from simply pointing to the original df\n",
    "\n",
    "    #df_selection = df_selection.loc[(stn_df['Hr'] == 12) & (stn_df['Mi'] == 0)].copy()\n",
    "\n",
    "    # Now that we have our combined date/time col, get rid of these\n",
    "    # del df_selection['Year']\n",
    "    # del df_selection['Mn']\n",
    "    # del df_selection['Dy']\n",
    "    # del df_selection['Hr']\n",
    "    # del df_selection['Mi']\n",
    "    #\n",
    "    # # These are longwave radiation\n",
    "    # del df_selection['D_IR']\n",
    "    # del df_selection['U_IR']\n",
    "\n",
    "    # Calculate \"albedo\" simply as the ratio of upward to downwelling radiance\n",
    "    df_selection['alb'] = df_selection['U_GLOBAL'] / df_selection['D_GLOBAL']\n",
    "    df_selection = df_selection.loc[(df_selection['U_GLOBAL'] > 0.0)]\n",
    "    df_selection = df_selection.loc[(df_selection['D_GLOBAL'] > 0.0)]\n",
    "\n",
    "    # Filter out spurious albedo values (sensor errors?)\n",
    "    df_selection = df_selection.loc[(df_selection['alb'] < 1.0) & (df_selection['alb'] > 0.0)]\n",
    "\n",
    "    df_selection = df_selection.set_index(df_selection['date'])\n",
    "    # Set the selection back to the original df variable to fit into exisiting code.\n",
    "    stn_df = df_selection.copy()\n",
    "#print(stn_df.head())"
   ]
  },
  {
   "cell_type": "code",
   "execution_count": 25,
   "metadata": {
    "pycharm": {
     "name": "#%%\n"
    }
   },
   "outputs": [],
   "source": [
    "# Subset and mask mcd43 data\n",
    "mcd_df = all_data_mcd.loc['noaasummit', [date, mcd_variable, mcd_qa]]\n",
    "\n",
    "# Mask out fill values\n",
    "mcd_df[mcd_variable].mask(mcd_df[mcd_qa] == 255, np.NaN, inplace=True)\n",
    "\n",
    "# If specified, remove QA == 1\n",
    "if high_qa_only:\n",
    "    mcd_df[mcd_variable].mask(mcd_df[mcd_qa] == 1, np.NaN, inplace=True)\n",
    "\n",
    "# Remove spuriously low albedo values in both satellite and stn records\n",
    "mcd_df[mcd_variable].mask(mcd_df[mcd_variable] < 0.4, np.NaN, inplace=True)\n",
    "stn_df['alb'].mask(stn_df['alb'] < 0.4, np.NaN, inplace=True)\n",
    "\n"
   ]
  },
  {
   "cell_type": "code",
   "execution_count": 26,
   "metadata": {
    "pycharm": {
     "name": "#%%\n"
    }
   },
   "outputs": [
    {
     "data": {
      "image/png": "[encoded data removed]",
      "text/plain": [
       "<Figure size 720x360 with 1 Axes>"
      ]
     },
     "metadata": {
      "needs_background": "light"
     },
     "output_type": "display_data"
    }
   ],
   "source": [
    "# Plot data\n",
    "import matplotlib.pyplot as plt\n",
    "import math\n",
    "from sklearn.metrics import mean_squared_error\n",
    "from pandas.plotting import register_matplotlib_converters\n",
    "register_matplotlib_converters()\n",
    "\n",
    "mcd_df[date] = pd.to_datetime(mcd_df[date], yearfirst=True)\n",
    "mcd_df = mcd_df.set_index(mcd_df[date])\n",
    "\n",
    "stn_df.set_index(stn_df['date'])\n",
    "\n",
    "# Join satellite observations to stn data based on date\n",
    "joined_df = mcd_df.join(stn_df, lsuffix='_mcd', rsuffix='_stn')\n",
    "\n",
    "if dataset == \"GCNET\":\n",
    "    #del joined_df['date']\n",
    "    del joined_df[mcd_qa]\n",
    "    del joined_df['sw_down']\n",
    "    del joined_df['sw_up']\n",
    "    del joined_df['net_rad']\n",
    "    del joined_df['Date']\n",
    "elif dataset == \"NOAA\":\n",
    "    del joined_df[mcd_qa]\n",
    "    del joined_df['Date']\n",
    "    del joined_df['D_GLOBAL']\n",
    "    del joined_df['U_GLOBAL']\n",
    "\n",
    "# Subset dataset to correct time period (different for different stations?\n",
    "joined_subset_df = joined_df.loc['2013-01-01':'2019-12-01']\n",
    "\n",
    "# Calculate stats on dataset that has no missing values\n",
    "joined_subset_no_nans_df = joined_subset_df.dropna()\n",
    "sw_wsa_mse = mean_squared_error(joined_subset_no_nans_df[mcd_variable], joined_subset_no_nans_df['alb'])\n",
    "sw_wsa_rmse = round(math.sqrt(sw_wsa_mse), 2)\n",
    "\n",
    "# Add back in the missing days in a plottable way\n",
    "joined_subset_no_nans_filled_df = joined_subset_no_nans_df.asfreq('D')\n",
    "joined_subset_no_nans_filled_df.to_csv('final_data_test.csv')\n",
    "props = dict(boxstyle='round', facecolor='white', alpha=0.5)\n",
    "\n",
    "# Do plot\n",
    "ax = joined_subset_no_nans_filled_df.plot(kind='scatter', x='date', y='alb', color='Indigo', label='MCD43')\n",
    "ax.text(pd.Timestamp(\"2013-07-01\"), 1.008, \"RMSE: \" + str(sw_wsa_rmse))\n",
    "ax.set_ylim([-0.005,1.0])\n",
    "ax.set_xlim([pd.Timestamp(\"2013-07-01\"),pd.Timestamp(\"2018-01-05\")])\n",
    "ax.grid(b=True, which='major', color='LightGrey', linestyle='-')\n",
    "ax.minorticks_on()\n",
    "\n",
    "joined_subset_no_nans_filled_df.plot(kind='scatter', x='date', y=mcd_variable, ax=ax, color='Tomato', label='Summit',\n",
    "                                     figsize=(10,5))\n",
    "ax.legend(loc='lower left')\n",
    "ax.set_xlabel('Date')\n",
    "ax.set_ylabel('Blue Sky Albedo')\n",
    "ax.set_title('NOAA ICECAPCS Observatory at Summit Station')\n",
    "\n",
    "plt.savefig('summit_noaa_vs_mcd43_bluesky.png')\n",
    "# joined_subset_df.plot(kind='scatter', y='alb', x='date', use_index=True)\n",
    "# joined_subset_df.plot(kind='scatter', y=mcd_variable, x='date', use_index=True)\n",
    "#\n",
    "# # Export csv if needed\n",
    "joined_subset_no_nans_filled_df.to_csv('test_high_qa_only.csv')\n",
    "\n",
    "\n"
   ]
  }
 ],
 "metadata": {
  "kernelspec": {
   "display_name": "Python [conda env:geo] *",
   "language": "python",
   "name": "conda-env-geo-py"
  },
  "language_info": {
   "codemirror_mode": {
    "name": "ipython",
    "version": 3
   },
   "file_extension": ".py",
   "mimetype": "text/x-python",
   "name": "python",
   "nbconvert_exporter": "python",
   "pygments_lexer": "ipython3",
   "version": "3.8.2"
  }
 },
 "nbformat": 4,
 "nbformat_minor": 1
}
